{
 "cells": [
  {
   "cell_type": "code",
   "execution_count": null,
   "metadata": {
    "pycharm": {
     "name": "#%%\n"
    }
   },
   "outputs": [],
   "source": [
    "import os\n",
    "import numpy as np\n",
    "import pandas as pd\n",
    "import torch\n",
    "\n",
    "from MainTrain import Main, MainOptuna\n",
    "from modules.sampling import SamplerContextMatrix, SamplerRandomWalk, SamplerFactorization, SamplerAPP"
   ]
  },
  {
   "cell_type": "code",
   "execution_count": null,
   "metadata": {
    "collapsed": false,
    "jupyter": {
     "outputs_hidden": false
    },
    "pycharm": {
     "name": "#%%\n"
    }
   },
   "outputs": [],
   "source": [
    "synthetic = True\n",
    "if synthetic:\n",
    "    datasets_names=[]\n",
    "    for l_a_trgt in [0.5]:\n",
    "                for f_a_trgt in [0.1,0.5,0.9]:\n",
    "                    for cl_trgt in [0.01,0.1,0.2,0.3,0.5]:\n",
    "                        for asp_trgt in [2,3,4,5,6,7]:\n",
    "                            for a_deg_trgt in [2,5,10,15,20,25,30,35,40]:\n",
    "                                datasets_names.append((l_a_trgt,f_a_trgt,cl_trgt,asp_trgt,a_deg_trgt))\n",
    "\n",
    "else:\n",
    "    datasets_names = ['Cornell','Texas','Wisconsin','Actor','Pubmed','squirrel']"
   ]
  },
  {
   "cell_type": "code",
   "execution_count": null,
   "outputs": [],
   "source": [
    "#loss functions\n",
    "VERSE_PPR =  {\"Name\": \"VERSE_PPR\",\"C\": \"PPR\",\"num_negative_samples\":[1, 6, 11, 16, 21],\"loss var\": \"Context Matrix\",\"flag_tosave\":False,\"alpha\": [0.1,0.2,0.3,0.4,0.5,0.6,0.7,0.8,0.9],\"Sampler\" :SamplerContextMatrix,\"lmbda\": [0.0,1.0]}\n",
    "VERSE_Adj =  {\"Name\": \"VERSE_Adj\",\"C\": \"Adj\",\"num_negative_samples\":[1, 6, 11, 16, 21],\"loss var\": \"Context Matrix\",\"flag_tosave\":False,\"Sampler\" :SamplerContextMatrix,\"lmbda\": [0.0,1.0]}\n",
    "\n",
    "VERSE_SR =  {\"Name\": \"VERSE_SimRank\",\"C\": \"SR\",\"num_negative_samples\":[1, 6, 11, 16, 21],\"loss var\": \"Context Matrix\",\"flag_tosave\":False,\"Sampler\":SamplerContextMatrix,\"lmbda\": [0.0,1.0]}\n",
    "DeepWalk = {\"Name\": \"DeepWalk\",\"walk_length\":[5, 10, 15, 20],\"walks_per_node\":[5, 10, 15, 20],\"num_negative_samples\":[1,6, 11, 16, 21],\"context_size\" : [5, 10, 15, 20],\"p\":1,\"q\":1,\"loss var\": \"Random Walks\",\"flag_tosave\":False,\"Sampler\" : SamplerRandomWalk } #Проблемы с памятью после того, как увеличила количество тренировочных данных\n",
    "Node2Vec = {\"Name\": \"Node2Vec\",\"walk_length\":[5, 10, 15, 20],\"walks_per_node\":[5, 10, 15, 20],\"num_negative_samples\":[1,6, 11, 16, 21],\"context_size\" : [5, 10, 15, 20],\"p\": [0.25, 0.50, 1, 2, 4] ,\"q\":[0.25, 0.50, 1, 2, 4], \"loss var\": \"Random Walks\",\"flag_tosave\":False,\"Sampler\": SamplerRandomWalk}#то же самое\n",
    "APP ={\"Name\": \"APP\",\"C\": \"PPR\",\"num_negative_samples\":[1, 6, 11, 16, 21],\"loss var\": \"Context Matrix\",\"flag_tosave\":True,\"alpha\": [0.1,0.2,0.3,0.4,0.5,0.6,0.7,0.8,0.9],\"Sampler\" :SamplerAPP}\n",
    "HOPE_Katz = {\"Name\": \"HOPE_Katz\",\"C\":\"Katz\",\"loss var\": \"Factorization\",\"flag_tosave\":True,\"betta\": [0.1,0.2,0.3,0.4,0.5,0.6,0.7,0.8,0.9],\"Sampler\" :SamplerFactorization,\"lmbda\": [0.0,1.0]} #проверить\n",
    "\n",
    "HOPE_RPR = {\"Name\": \"HOPE_RPR\",\"C\":\"RPR\",\"loss var\": \"Factorization\",\"flag_tosave\":True,\"alpha\": [0.1,0.2,0.3,0.4,0.5,0.6,0.7,0.8,0.9],\"Sampler\" :SamplerFactorization,\"lmbda\": [0.0,1.0]} #проверить\n",
    "HOPE_CN = {\"Name\": \"HOPE_CommonNeighbors\", \"C\":\"CN\",\"loss var\": \"Factorization\",\"flag_tosave\":False,\"Sampler\" :SamplerFactorization,\"lmbda\": [0.0,1.0]}\n",
    "HOPE_AA = {\"Name\": \"HOPE_AdamicAdar\",\"C\":\"AA\",\"loss var\": \"Factorization\",\"flag_tosave\":True,\"Sampler\" :SamplerFactorization,\"lmbda\": [0.0,1.0]}\n",
    "\n",
    "LapEigen = {\"Name\": \"LaplacianEigenMaps\", \"C\":\"Adj\",\"loss var\": \"Laplacian EigenMaps\",\"flag_tosave\":True,\"Sampler\" :SamplerFactorization,\"lmbda\": [0.0,1.0]}\n",
    "LINE = {\"Name\": \"LINE\",\"C\": \"Adj\",\"num_negative_samples\":[1, 6, 11, 16, 21],\"loss var\": \"Context Matrix\",\"flag_tosave\":False,\"Sampler\" :SamplerContextMatrix,\"lmbda\": [0.0,1.0]}\n",
    "GraphFactorization = {\"Name\": \"Graph Factorization\",\"C\":\"Adj\",\"loss var\": \"Factorization\",\"flag_tosave\":False,\"Sampler\" :SamplerFactorization,\"lmbda\": [0.0,1.0]}\n",
    "\n",
    "Force2Vec = {\"Name\": \"Force2Vec\",\"C\": \"Adj\",\"num_negative_samples\":[1, 6, 11, 16, 21],\"loss var\": \"Force2Vec\",\"flag_tosave\":False,\"Sampler\" :SamplerContextMatrix,\"lmbda\": [0.0,1.0]}\n"
   ],
   "metadata": {
    "collapsed": false
   }
  },
  {
   "cell_type": "code",
   "execution_count": null,
   "outputs": [],
   "source": [
    "loss = HOPE_CN\n",
    "loss_name = 'HOPE_CN'\n",
    "device =torch.device('cuda' if torch.cuda.is_available() else 'cpu')\n",
    "analysis = pd.read_csv('../results/whole_data_results.csv')\n",
    "analysis = analysis.drop(columns=['Unnamed: 0'])\n",
    "device='cpu'\n",
    "\n",
    "for (l,f,cl,asp,ad) in datasets_names:\n",
    "    for conv in ['SAGE','GCN','GAT']:\n",
    "        name = \"\".join(list(map(lambda x: str(x), [l, f, cl, asp, ad])))\n",
    "        if os.path.exists('../data_benchmark/graph_' + str(name) + '_attr.npy'):\n",
    "\n",
    "            if len(analysis[ (analysis['loss'] == loss_name) & (analysis['conv'] == conv) & (analysis['dataset'] == name)] ) == 0:\n",
    "                print(l,f,cl,asp,ad,conv)\n",
    "                MO = MainOptuna(name=name,conv=conv, device=device, loss_function=loss,mode= 'unsupervised')\n",
    "                study = MO.run(number_of_trials=5)\n",
    "                best_values = study.best_trial.params\n",
    "\n",
    "                columns = [\"Loss name\", \"Conv\", \"l\", \"f\",\"cl\", \"asp\", \"ad\", \"loss value\"] + list(study.trials[0].params.keys())\n",
    "                df = pd.DataFrame(columns=columns)\n",
    "                for trial in study.trials:\n",
    "                    row = [loss_name,conv,l,f,cl,asp,ad,trial.values[0]] + list(trial.params.values())\n",
    "                    to_append = pd.Series(row,df.columns)\n",
    "                    df = df.append(to_append,ignore_index=True)\n",
    "                df.to_csv(str(loss_name)+'_'+str(conv)+'_'+str(name)+'.csv')\n",
    "\n",
    "                loss_trgt=dict()\n",
    "                for par in loss:\n",
    "                    loss_trgt[par]=loss[par]\n",
    "\n",
    "                loss_trgt[\"lmbda\"] = best_values['lmbda']\n",
    "\n",
    "                M = Main(name=name,conv=conv, device=device, loss_function=loss_trgt,mode= 'unsupervised')\n",
    "                accuracy = M.run(best_values)\n",
    "\n",
    "                to_append=pd.Series([loss_name, conv, f,cl,asp,ad,name , accuracy, best_values],index = analysis.columns)\n",
    "                analysis = analysis.append(to_append,ignore_index=True)\n",
    "                print(analysis)"
   ],
   "metadata": {
    "collapsed": false
   }
  },
  {
   "cell_type": "code",
   "execution_count": null,
   "outputs": [],
   "source": [],
   "metadata": {
    "collapsed": false
   }
  }
 ],
 "metadata": {
  "accelerator": "GPU",
  "colab": {
   "collapsed_sections": [],
   "name": "My__RW_Neighbour.ipynb",
   "provenance": []
  },
  "kernelspec": {
   "name": "python3",
   "language": "python",
   "display_name": "Python 3 (ipykernel)"
  },
  "language_info": {
   "codemirror_mode": {
    "name": "ipython",
    "version": 3
   },
   "file_extension": ".py",
   "mimetype": "text/x-python",
   "name": "python",
   "nbconvert_exporter": "python",
   "pygments_lexer": "ipython3",
   "version": "3.8.8"
  }
 },
 "nbformat": 4,
 "nbformat_minor": 4
}
